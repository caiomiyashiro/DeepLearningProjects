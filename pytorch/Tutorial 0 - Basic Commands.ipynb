{
 "cells": [
  {
   "cell_type": "code",
   "execution_count": 1,
   "metadata": {},
   "outputs": [],
   "source": [
    "import torch"
   ]
  },
  {
   "cell_type": "markdown",
   "metadata": {},
   "source": [
    "# Chapter 1 - Basics"
   ]
  },
  {
   "cell_type": "code",
   "execution_count": 36,
   "metadata": {},
   "outputs": [
    {
     "name": "stdout",
     "output_type": "stream",
     "text": [
      "torch.Size([2, 2])\n",
      "torch.Size([1, 2, 2])\n"
     ]
    }
   ],
   "source": [
    "# create a 2d tensor and then add a dimension of size 1 at dimension 0\n",
    "a = torch.randn([2,2])\n",
    "print(a.shape)\n",
    "a = a.unsqueeze(0)\n",
    "print(a.shape)"
   ]
  },
  {
   "cell_type": "code",
   "execution_count": 37,
   "metadata": {},
   "outputs": [
    {
     "name": "stdout",
     "output_type": "stream",
     "text": [
      "torch.Size([2, 2])\n"
     ]
    }
   ],
   "source": [
    "# remove the extra dimension you just added to the previous tensor\n",
    "b = a.squeeze(0)\n",
    "print(b.shape)"
   ]
  },
  {
   "cell_type": "code",
   "execution_count": 40,
   "metadata": {},
   "outputs": [
    {
     "data": {
      "text/plain": [
       "tensor([[3.2319, 6.8609, 3.3032],\n",
       "        [6.9087, 5.7378, 6.1249],\n",
       "        [3.3564, 4.1717, 5.9690],\n",
       "        [4.0769, 3.4955, 6.8960],\n",
       "        [4.6846, 6.5957, 5.5861]])"
      ]
     },
     "execution_count": 40,
     "metadata": {},
     "output_type": "execute_result"
    }
   ],
   "source": [
    "# create a random tensor of shape 5x3 in the interval [3,7)\n",
    "min_ = 3\n",
    "max_ = 7\n",
    "min_ + torch.rand(5,3) * (max_-min_)"
   ]
  },
  {
   "cell_type": "code",
   "execution_count": 44,
   "metadata": {},
   "outputs": [
    {
     "data": {
      "image/png": "[encoded data removed]",
      "text/plain": [
       "<Figure size 432x288 with 1 Axes>"
      ]
     },
     "metadata": {},
     "output_type": "display_data"
    }
   ],
   "source": [
    "# create a tensor with values from a standard normal distribution \n",
    "import matplotlib.pyplot as plt\n",
    "\n",
    "values = torch.randn(1000)\n",
    "plt.hist(values.numpy());"
   ]
  },
  {
   "cell_type": "code",
   "execution_count": 59,
   "metadata": {},
   "outputs": [
    {
     "data": {
      "text/plain": [
       "tensor(3)"
      ]
     },
     "execution_count": 59,
     "metadata": {},
     "output_type": "execute_result"
    }
   ],
   "source": [
    "# retrieve the indexes of all nonzero elements in the tensor torch.Tensor([1,1,1,0,1])\n",
    "\n",
    "t = torch.Tensor([1,1,1,0,1])\n",
    "(t == 0).nonzero()[0][0]"
   ]
  },
  {
   "cell_type": "code",
   "execution_count": 70,
   "metadata": {},
   "outputs": [
    {
     "name": "stdout",
     "output_type": "stream",
     "text": [
      "Vertically: torch.Size([12, 1])\n",
      "Horizontally: torch.Size([3, 4])\n"
     ]
    }
   ],
   "source": [
    "# create a random tensor of size (3,1) and then horizontally stack four copies together\n",
    "\n",
    "h = torch.Tensor(3,1)\n",
    "\n",
    "print(f'Vertically: {torch.cat([h,h,h,h], 0).shape}')\n",
    "print(f'Horizontally: {torch.cat([h,h,h,h], 1).shape}')\n",
    "# h.expand(3,4) # optional"
   ]
  },
  {
   "cell_type": "code",
   "execution_count": 74,
   "metadata": {},
   "outputs": [
    {
     "data": {
      "text/plain": [
       "torch.Size([3, 4, 4])"
      ]
     },
     "execution_count": 74,
     "metadata": {},
     "output_type": "execute_result"
    }
   ],
   "source": [
    "# return the batch matrix matrix product of two 3d matrices\n",
    "# https://discuss.pytorch.org/t/understanding-batch-multiplication-using-torch-matmul/16882\n",
    "# a = torch.rand(3,4,5) \n",
    "# b = torch.rand(3,5,4)\n",
    "\n",
    "a = torch.rand(3,4,5) \n",
    "b = torch.rand(3,5,4)\n",
    "\n",
    "torch.bmm(a,b).shape # bmm of two matrices of shape [b,n,m] and [b,m,o] expected size [b,n,o]"
   ]
  },
  {
   "cell_type": "code",
   "execution_count": 78,
   "metadata": {},
   "outputs": [
    {
     "data": {
      "text/plain": [
       "torch.Size([3, 4, 4])"
      ]
     },
     "execution_count": 78,
     "metadata": {},
     "output_type": "execute_result"
    }
   ],
   "source": [
    "# return the batch matrix matrix product of a 3d matrix and a 2d matrix \n",
    "# a = torch.rand(3,4,5) \n",
    "# b = torch.rand(5,4)\n",
    "\n",
    "a = torch.rand(3,4,5) \n",
    "b = torch.rand(5,4)\n",
    "\n",
    "\n",
    "torch.bmm(a, b.expand(3,-1,-1)).shape"
   ]
  }
 ],
 "metadata": {
  "hide_input": false,
  "kernelspec": {
   "display_name": "Python 3",
   "language": "python",
   "name": "python3"
  },
  "language_info": {
   "codemirror_mode": {
    "name": "ipython",
    "version": 3
   },
   "file_extension": ".py",
   "mimetype": "text/x-python",
   "name": "python",
   "nbconvert_exporter": "python",
   "pygments_lexer": "ipython3",
   "version": "3.6.4"
  },
  "toc": {
   "base_numbering": 1,
   "nav_menu": {},
   "number_sections": true,
   "sideBar": true,
   "skip_h1_title": false,
   "title_cell": "Table of Contents",
   "title_sidebar": "Contents",
   "toc_cell": false,
   "toc_position": {},
   "toc_section_display": true,
   "toc_window_display": false
  }
 },
 "nbformat": 4,
 "nbformat_minor": 2
}
