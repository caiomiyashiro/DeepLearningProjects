{
 "cells": [
  {
   "cell_type": "code",
   "execution_count": 30,
   "metadata": {},
   "outputs": [],
   "source": [
    "import torch\n",
    "from torch import nn\n",
    "import torchvision\n",
    "from torchvision import transforms, datasets\n",
    "from torch.utils.data import DataLoader\n",
    "import torch.optim as optim"
   ]
  },
  {
   "cell_type": "code",
   "execution_count": 12,
   "metadata": {},
   "outputs": [],
   "source": [
    "# constants\n",
    "\n",
    "FOLDER_MNIST_PATH = 'MNIST'\n",
    "DS_LOADER_BATCH_SIZE = 32\n",
    "DS_LOADER_SHUFFLE = True\n",
    "DS_LOADER_DROP_LAST = True\n",
    "\n",
    "TRAIN_N_EPOCHS = 1\n",
    "TRAIN_LR = 1e-4\n"
   ]
  },
  {
   "cell_type": "code",
   "execution_count": 3,
   "metadata": {},
   "outputs": [],
   "source": [
    "transformations = transforms.Compose([transforms.ToTensor(),\n",
    "                                      transforms.Normalize([0.5], [0.5])])\n",
    "\n",
    "train_set = datasets.MNIST(root=FOLDER_MNIST_PATH, download=True, train=True, transform=transformations)\n",
    "test_set = datasets.MNIST(root=FOLDER_MNIST_PATH, download=True, train=False, transform=transformations)\n"
   ]
  },
  {
   "cell_type": "markdown",
   "metadata": {},
   "source": [
    "## Model"
   ]
  },
  {
   "cell_type": "code",
   "execution_count": 4,
   "metadata": {},
   "outputs": [],
   "source": [
    "class Flatten(torch.nn.Module):   \n",
    "    def __init__(self):\n",
    "        super(Flatten, self).__init__()\n",
    "        \n",
    "    def forward(self, x):\n",
    "        batch_size = x.shape[0]\n",
    "        return x.view(batch_size, -1)\n",
    "        \n",
    "class Flatten2Conv(torch.nn.Module):\n",
    "    def __init__(self, shape):\n",
    "        super(Flatten2Conv, self).__init__()\n",
    "        self.shape = shape\n",
    "        \n",
    "    def forward(self, x):\n",
    "        return x.view(x.shape[0], *[64, 10, 10]) # TODO: This size should be automatically defined..\n",
    "\n",
    "class AE(nn.Module):\n",
    "    \n",
    "    def __init__(self):\n",
    "        super(AE, self).__init__()\n",
    "        \n",
    "        conv1_in = 1\n",
    "        conv1_out = 32\n",
    "        conv2_out = 64\n",
    "        \n",
    "        flatten = Flatten()\n",
    "\n",
    "        flatten2conv_shape = [conv2_out, 10, 10]\n",
    "        flatten2conv = Flatten2Conv(flatten2conv_shape)\n",
    "        \n",
    "        \n",
    "        self.encoder = nn.Sequential(\n",
    "            nn.Conv2d(in_channels=conv1_in, out_channels=conv1_out, kernel_size=5),  # [?,1,28,28] --> [?,conv1_out, 24, 24]\n",
    "            nn.LeakyReLU(),\n",
    "            nn.Conv2d(in_channels=conv1_out, out_channels=conv2_out, kernel_size=5), # [?,conv1_out,24,24] --> [?,conv2_out, 20, 20]\n",
    "            nn.LeakyReLU(),            \n",
    "            nn.MaxPool2d(2,2),                                                       # [?,conv2_out, 20, 20] --> [?,conv2_out, 10, 10]\n",
    "            flatten,                                                                 # [?,conv2_out, 10, 10] --> [?,conv2_out * 10 * 10]            \n",
    "            nn.Linear(conv2_out * 10 * 10, 150),                                     # [?, 6400] --> [?, 150]\n",
    "            nn.Dropout(),      \n",
    "            nn.Linear(150, 2)                                                        # [?, 150] --> [?,2]\n",
    "        )\n",
    "        \n",
    "        self.decoder = nn.Sequential(\n",
    "            nn.Linear(2, 150),                                       # [?,2] --> [?, 150]\n",
    "            nn.Linear(150, conv2_out * 10 * 10),                     # [?, 150] --> [?, 6400]\n",
    "            flatten2conv,                                            # [?, 6400] --> [?,conv2_out, 10, 10]\n",
    "            # https://pravn.wordpress.com/tag/transpose-convolutions/\n",
    "            nn.ConvTranspose2d(conv2_out, conv2_out, 11),            # [?,conv2_out, 10, 10] --> [?,conv2_out, 20, 20]\n",
    "            nn.ConvTranspose2d(conv2_out, conv1_out, 5),             # [?,conv2_out, 20, 20] --> [?,conv1_out,24,24]\n",
    "            nn.ConvTranspose2d(conv1_out, 1, 5),                     # [?,conv1_out, 24, 24] --> [?,1,28,28]\n",
    "        )\n",
    "        \n",
    "        \n",
    "        \n",
    "    def forward(self, x):\n",
    "        encoder_output = self.encoder(x)\n",
    "        return self.decoder(encoder_output)\n",
    "        \n",
    "        "
   ]
  },
  {
   "cell_type": "markdown",
   "metadata": {},
   "source": [
    "## Utils"
   ]
  },
  {
   "cell_type": "code",
   "execution_count": 16,
   "metadata": {},
   "outputs": [],
   "source": [
    "def get_validation_performance(dataset, model, loss):\n",
    "        test_loader = DataLoader(dataset=dataset, \n",
    "                          batch_size=DS_LOADER_BATCH_SIZE, \n",
    "                          shuffle=DS_LOADER_SHUFFLE, \n",
    "                          drop_last=DS_LOADER_DROP_LAST)\n",
    "        \n",
    "        n_batches = int(len(dataset)/DS_LOADER_BATCH_SIZE)\n",
    "        moving_loss_test = 0\n",
    "        with torch.no_grad():\n",
    "            model = model.eval()\n",
    "            for batch_ix_val, batch_data_test in enumerate(test_loader,0):\n",
    "                x, label = batch_data_test\n",
    "\n",
    "                img_pred = model(x)\n",
    "\n",
    "                loss_test = loss(img_pred, x)\n",
    "                moving_loss_test += loss_test.item()\n",
    "\n",
    "\n",
    "        avg_batch_loss_test = moving_loss_test/n_batches\n",
    "        return avg_batch_loss_test "
   ]
  },
  {
   "cell_type": "markdown",
   "metadata": {},
   "source": [
    "## Training Loop"
   ]
  },
  {
   "cell_type": "code",
   "execution_count": 14,
   "metadata": {
    "scrolled": true
   },
   "outputs": [
    {
     "name": "stdout",
     "output_type": "stream",
     "text": [
      "batch_ix 0: loss 0.8458535671234131\n",
      "batch_ix 50: loss 0.3020975887775421\n",
      "batch_ix 100: loss 0.24893517792224884\n",
      "batch_ix 150: loss 0.24875088036060333\n",
      "batch_ix 200: loss 0.24157606065273285\n",
      "batch_ix 250: loss 0.2215087115764618\n",
      "batch_ix 300: loss 0.24825046956539154\n",
      "batch_ix 350: loss 0.24100062251091003\n",
      "batch_ix 400: loss 0.22581471502780914\n",
      "batch_ix 450: loss 0.23655517399311066\n",
      "batch_ix 500: loss 0.24058303236961365\n",
      "batch_ix 550: loss 0.2565898597240448\n",
      "batch_ix 600: loss 0.22039566934108734\n",
      "batch_ix 650: loss 0.22094519436359406\n",
      "batch_ix 700: loss 0.22775258123874664\n",
      "batch_ix 750: loss 0.2376987189054489\n",
      "batch_ix 800: loss 0.232263445854187\n",
      "batch_ix 850: loss 0.2207428365945816\n",
      "batch_ix 900: loss 0.19557572901248932\n",
      "batch_ix 950: loss 0.23360909521579742\n",
      "batch_ix 1000: loss 0.2286962866783142\n",
      "batch_ix 1050: loss 0.23929373919963837\n",
      "batch_ix 1100: loss 0.22763141989707947\n",
      "batch_ix 1150: loss 0.2373952567577362\n",
      "batch_ix 1200: loss 0.23230993747711182\n",
      "batch_ix 1250: loss 0.22394029796123505\n",
      "batch_ix 1300: loss 0.22885483503341675\n",
      "batch_ix 1350: loss 0.23410509526729584\n",
      "batch_ix 1400: loss 0.2168210744857788\n",
      "batch_ix 1450: loss 0.24810047447681427\n",
      "batch_ix 1500: loss 0.2357761710882187\n",
      "batch_ix 1550: loss 0.23792779445648193\n",
      "batch_ix 1600: loss 0.22884652018547058\n",
      "batch_ix 1650: loss 0.20207537710666656\n",
      "batch_ix 1700: loss 0.23388175666332245\n",
      "batch_ix 1750: loss 0.2266726940870285\n",
      "batch_ix 1800: loss 0.2236984372138977\n",
      "batch_ix 1850: loss 0.21744436025619507\n"
     ]
    },
    {
     "ename": "NameError",
     "evalue": "name 'ep' is not defined",
     "output_type": "error",
     "traceback": [
      "\u001b[0;31m---------------------------------------------------------------------------\u001b[0m",
      "\u001b[0;31mNameError\u001b[0m                                 Traceback (most recent call last)",
      "\u001b[0;32m<ipython-input-14-323e4158f140>\u001b[0m in \u001b[0;36m<module>\u001b[0;34m()\u001b[0m\n\u001b[1;32m     30\u001b[0m \u001b[0;34m\u001b[0m\u001b[0m\n\u001b[1;32m     31\u001b[0m     \u001b[0mavg_running_loss_train\u001b[0m \u001b[0;34m=\u001b[0m \u001b[0mrunning_loss_train\u001b[0m\u001b[0;34m/\u001b[0m\u001b[0mn_batches\u001b[0m\u001b[0;34m\u001b[0m\u001b[0m\n\u001b[0;32m---> 32\u001b[0;31m     \u001b[0mprint\u001b[0m\u001b[0;34m(\u001b[0m\u001b[0;34mf'epoch {ep}:'\u001b[0m\u001b[0;34m)\u001b[0m\u001b[0;34m\u001b[0m\u001b[0m\n\u001b[0m\u001b[1;32m     33\u001b[0m     \u001b[0mprint\u001b[0m\u001b[0;34m(\u001b[0m\u001b[0;34mf'Training Loss: {avg_running_loss_train}'\u001b[0m\u001b[0;34m)\u001b[0m\u001b[0;34m\u001b[0m\u001b[0m\n\u001b[1;32m     34\u001b[0m \u001b[0;34m\u001b[0m\u001b[0m\n",
      "\u001b[0;31mNameError\u001b[0m: name 'ep' is not defined"
     ]
    }
   ],
   "source": [
    "autoencoder = AE()\n",
    "rmse_loss = nn.MSELoss()\n",
    "optimiser = optim.Adam(autoencoder.parameters(), lr=TRAIN_LR)\n",
    "\n",
    "running_loss_train = 0\n",
    "\n",
    "n_batches = int(len(train_set)/DS_LOADER_BATCH_SIZE)\n",
    "for e in range(TRAIN_N_EPOCHS):\n",
    "    train_loader = DataLoader(dataset=train_set, \n",
    "                              batch_size=DS_LOADER_BATCH_SIZE, \n",
    "                              shuffle=DS_LOADER_SHUFFLE, \n",
    "                              drop_last=DS_LOADER_DROP_LAST)\n",
    "    for batch_ix, data in enumerate(train_loader, 0):\n",
    "        x, label = data\n",
    "        \n",
    "        autoencoder.zero_grad()\n",
    "        \n",
    "        img_predictions = autoencoder(x)\n",
    "        \n",
    "        loss = rmse_loss(img_predictions, x)\n",
    "        running_loss_train += loss\n",
    "        loss.backward()\n",
    "        \n",
    "        optimiser.step()\n",
    "        \n",
    "        if batch_ix % 200 == 0:\n",
    "            print(f'batch_ix {batch_ix}: loss {loss}')\n",
    "            \n",
    "        \n",
    "        \n",
    "    avg_running_loss_train = running_loss_train/n_batches\n",
    "    print(f'epoch {e}:')\n",
    "    print(f'Training Loss: {avg_running_loss_train}')\n",
    "    \n",
    "    avg_running_loss_test = get_validation_performance(dataset=test_set,\n",
    "                                                    model=autoencoder,\n",
    "                                                    loss=rmse_loss)\n",
    "    print(f'Validation Loss: {avg_running_loss_test}')\n",
    "    print(f'--------------------------------')\n",
    "    \n",
    "    \n"
   ]
  },
  {
   "cell_type": "code",
   "execution_count": 58,
   "metadata": {},
   "outputs": [
    {
     "data": {
      "image/png": "[encoded data removed]",
      "text/plain": [
       "<Figure size 432x288 with 1 Axes>"
      ]
     },
     "metadata": {},
     "output_type": "display_data"
    },
    {
     "name": "stderr",
     "output_type": "stream",
     "text": [
      "WARNING:matplotlib.image:Clipping input data to the valid range for imshow with RGB data ([0..1] for floats or [0..255] for integers).\n"
     ]
    },
    {
     "data": {
      "image/png": "[encoded data removed]",
      "text/plain": [
       "<Figure size 432x288 with 1 Axes>"
      ]
     },
     "metadata": {},
     "output_type": "display_data"
    }
   ],
   "source": [
    "test_loader = DataLoader(dataset=test_set, \n",
    "                          batch_size=3, \n",
    "                          shuffle=DS_LOADER_SHUFFLE, \n",
    "                          drop_last=DS_LOADER_DROP_LAST)\n",
    "test_loader = iter(test_loader)\n",
    "data, label = next(test_loader)\n",
    "with torch.no_grad():\n",
    "    pred = autoencoder(data)\n",
    "    \n",
    "def show_images(images):\n",
    "    normal_imgs = (images/2 + 0.5).numpy()\n",
    "    plt.imshow(np.transpose(normal_imgs, [1,2,0])) # test.shape = torch.Size([3, 32, 32])    \n",
    "\n",
    "N_IMAGES = 3    \n",
    "show_images(torchvision.utils.make_grid(data[:N_IMAGES]))\n",
    "plt.show()\n",
    "show_images(torchvision.utils.make_grid(pred[:N_IMAGES]))"
   ]
  }
 ],
 "metadata": {
  "hide_input": false,
  "kernelspec": {
   "display_name": "Python 3",
   "language": "python",
   "name": "python3"
  },
  "language_info": {
   "codemirror_mode": {
    "name": "ipython",
    "version": 3
   },
   "file_extension": ".py",
   "mimetype": "text/x-python",
   "name": "python",
   "nbconvert_exporter": "python",
   "pygments_lexer": "ipython3",
   "version": "3.6.4"
  },
  "toc": {
   "base_numbering": 1,
   "nav_menu": {},
   "number_sections": true,
   "sideBar": true,
   "skip_h1_title": false,
   "title_cell": "Table of Contents",
   "title_sidebar": "Contents",
   "toc_cell": false,
   "toc_position": {},
   "toc_section_display": true,
   "toc_window_display": false
  }
 },
 "nbformat": 4,
 "nbformat_minor": 2
}
