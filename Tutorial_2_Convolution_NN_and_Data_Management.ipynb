{
 "cells": [
  {
   "cell_type": "markdown",
   "metadata": {
    "colab_type": "text",
    "id": "GZoj-O_L-4Dn"
   },
   "source": [
    "# Convolutional NN & Data management & Evaluation\n",
    "\n",
    "https://pytorch.org/tutorials/beginner/data_loading_tutorial.html#dataset-class\n",
    "\n",
    "https://stanford.edu/~shervine/blog/pytorch-how-to-generate-data-parallel\n",
    "\n",
    "https://pytorch.org/docs/stable/torchvision/transforms.html\n",
    "\n",
    "https://pytorch.org/tutorials/beginner/blitz/cifar10_tutorial.html"
   ]
  },
  {
   "cell_type": "code",
   "execution_count": 0,
   "metadata": {
    "colab": {},
    "colab_type": "code",
    "id": "itw-bT3w-4Do"
   },
   "outputs": [],
   "source": [
    "import numpy as np\n",
    "import torch\n",
    "import torchvision \n",
    "import matplotlib.pyplot as plt\n",
    "import torch.nn.functional as F\n",
    "import pandas as pd\n",
    "from time import time\n",
    "from torchvision import datasets, transforms\n",
    "from torch.utils.data import DataLoader\n",
    "from torch import nn, optim"
   ]
  },
  {
   "cell_type": "code",
   "execution_count": 19,
   "metadata": {
    "colab": {
     "base_uri": "https://localhost:8080/",
     "height": 68
    },
    "colab_type": "code",
    "id": "M-bWew6_-4Dr",
    "outputId": "f793c8a2-2cd2-4475-d55a-6bddccbfd88f"
   },
   "outputs": [
    {
     "name": "stdout",
     "output_type": "stream",
     "text": [
      "Files already downloaded and verified\n",
      "Files already downloaded and verified\n",
      "type(train_set): <class 'torchvision.datasets.cifar.CIFAR10'>\n"
     ]
    }
   ],
   "source": [
    "transform = transforms.Compose([transforms.ToTensor(),\n",
    "                              transforms.Normalize((0.5, 0.5, 0.5), (0.5, 0.5, 0.5)), # = scale from [0,1] to [-1,1]\n",
    "                              ])\n",
    "\n",
    "train_set = datasets.CIFAR10(root='CIFAR10_train', download=True, train=True, transform=transform)\n",
    "val_set = datasets.CIFAR10('CIFAR10_val', download=True, train=False, transform=transform)\n",
    "\n",
    "classes = ['plane', 'car', 'bird', 'cat',\n",
    "           'deer', 'dog', 'frog', 'horse', 'ship', 'truck']\n",
    "\n",
    "print(f'type(train_set): {type(train_set)}')"
   ]
  },
  {
   "cell_type": "code",
   "execution_count": 0,
   "metadata": {
    "colab": {},
    "colab_type": "code",
    "id": "E-5Y-Zf-XbjF"
   },
   "outputs": [],
   "source": [
    "device = torch.device(\"cuda:0\" if torch.cuda.is_available() else \"cpu\")"
   ]
  },
  {
   "cell_type": "code",
   "execution_count": 0,
   "metadata": {
    "colab": {
     "base_uri": "https://localhost:8080/",
     "height": 249
    },
    "colab_type": "code",
    "id": "WHtPIMZ1-4Dv",
    "outputId": "2aa677e2-07bf-4362-f3e2-6c8973057df9"
   },
   "outputs": [
    {
     "name": "stdout",
     "output_type": "stream",
     "text": [
      "images shape: torch.Size([4, 3, 32, 32])\n",
      "labels shape: torch.Size([4])\n",
      "\n",
      " Sample images:\n"
     ]
    },
    {
     "data": {
      "image/png": "[encoded data removed]",
      "text/plain": [
       "<Figure size 432x288 with 1 Axes>"
      ]
     },
     "metadata": {
      "tags": []
     },
     "output_type": "display_data"
    }
   ],
   "source": [
    "train_loader = DataLoader(train_set, batch_size=4, shuffle=True)\n",
    "val_loader = DataLoader(val_set, batch_size=4, shuffle=True)\n",
    "\n",
    "train_iter = iter(train_loader)\n",
    "images, labels = train_iter.next()\n",
    "\n",
    "print(f'images shape: {images.shape}')\n",
    "print(f'labels shape: {labels.shape}')\n",
    "\n",
    "#\n",
    "print('\\n Sample images:')\n",
    "def show_images(images):\n",
    "    normal_imgs = (images/2 + 0.5).numpy()\n",
    "    plt.imshow(np.transpose(normal_imgs, [1,2,0])) # test.shape = torch.Size([3, 32, 32])    \n",
    "\n",
    "N_IMAGES = 3    \n",
    "show_images(torchvision.utils.make_grid(images[:N_IMAGES]))\n",
    "plt.xlabel([classes[elem] for elem in labels[:N_IMAGES]]);"
   ]
  },
  {
   "cell_type": "markdown",
   "metadata": {
    "colab_type": "text",
    "id": "03Z5ayqu-4Dy"
   },
   "source": [
    "# Build Convolutional NN"
   ]
  },
  {
   "cell_type": "code",
   "execution_count": 0,
   "metadata": {
    "colab": {},
    "colab_type": "code",
    "id": "NR44MPVD-4Dz"
   },
   "outputs": [],
   "source": [
    "class ConvNet(nn.Module):\n",
    "    def __init__(self):\n",
    "        super(ConvNet, self).__init__()\n",
    "        self.conv1 = nn.Conv2d(3, 6, 5)       # https://pytorch.org/docs/stable/nn.html#conv2d      \n",
    "        self.pool = nn.MaxPool2d(2, 2)        # https://pytorch.org/docs/stable/nn.html#maxpool2d\n",
    "        self.conv2 = nn.Conv2d(6, 16, 5)        \n",
    "        self.fc1 = nn.Linear(16 * 5 * 5, 120)   \n",
    "        self.fc2 = nn.Linear(120, 60)         # https://pytorch.org/docs/stable/nn.html#linear\n",
    "        self.fc3 = nn.Linear(60, 10)            \n",
    "\n",
    "    def forward(self, x):                       # sizes:\n",
    "        x = self.pool(F.relu(self.conv1(x)))    # 3x32x32 --> 6x28x28 --> 6x14x14\n",
    "        x = self.pool(F.relu(self.conv2(x)))    # 6x14x14 --> 16x10x10 --> 16x5x5\n",
    "        x = x.view(-1, 16 * 5 * 5)              # join features --> 16x5x5 --> 400\n",
    "        x = F.relu(self.fc1(x))                 # 400 --> 120\n",
    "        x = F.relu(self.fc2(x))                 # 120 --> 60\n",
    "        x = self.fc3(x)                         # 60 --> 10\n",
    "        return x"
   ]
  },
  {
   "cell_type": "code",
   "execution_count": 0,
   "metadata": {
    "colab": {},
    "colab_type": "code",
    "id": "q2EynFfp-4D2"
   },
   "outputs": [],
   "source": [
    "def train_loop(cn):\n",
    "  \n",
    "    cn = cn.to(device)\n",
    "    # restart mini batch\n",
    "    train_loader = DataLoader(train_set, batch_size=4, shuffle=True)\n",
    "    val_loader = DataLoader(val_set, batch_size=4, shuffle=True)\n",
    "\n",
    "    \n",
    "    ce_loss = nn.CrossEntropyLoss()\n",
    "    lr = 1e-4\n",
    "    optimiser = optim.Adam(cn.parameters(), lr=lr)\n",
    "\n",
    "    ## run with mini-batch\n",
    "    loss_curve = []\n",
    "    running_loss = 0\n",
    "    for epoch in range(10):\n",
    "        for i, mini_batch in enumerate(train_loader, 0):\n",
    "            images, labels = mini_batch\n",
    "            images = images.to(device)\n",
    "            labels = labels.to(device)            \n",
    "            \n",
    "            cn.zero_grad()\n",
    "\n",
    "            predictions = cn(images)\n",
    "\n",
    "            loss = ce_loss(predictions, labels)\n",
    "            loss_curve.append(loss)\n",
    "            loss.backward()\n",
    "\n",
    "            optimiser.step()\n",
    "\n",
    "            running_loss += loss.item()\n",
    "                    \n",
    "cn = ConvNet()\n",
    "train_loop(cn)"
   ]
  },
  {
   "cell_type": "markdown",
   "metadata": {
    "colab_type": "text",
    "id": "Hj9kANqN-4D4"
   },
   "source": [
    "# Simple Evaluation\n",
    "\n",
    "## Random Images"
   ]
  },
  {
   "cell_type": "code",
   "execution_count": 30,
   "metadata": {
    "colab": {
     "base_uri": "https://localhost:8080/",
     "height": 204
    },
    "colab_type": "code",
    "id": "fV9NhM49-4D5",
    "outputId": "24c74cb6-c9ac-4758-9c36-44d63fc27a74"
   },
   "outputs": [
    {
     "name": "stdout",
     "output_type": "stream",
     "text": [
      "\n",
      "Predictions:\n",
      "['horse', 'horse', 'deer', 'truck']\n"
     ]
    },
    {
     "data": {
      "image/png": "[encoded data removed]",
      "text/plain": [
       "<Figure size 432x288 with 1 Axes>"
      ]
     },
     "metadata": {
      "tags": []
     },
     "output_type": "display_data"
    }
   ],
   "source": [
    "def test_random(cn):\n",
    "    cn.cpu()\n",
    "    cn.eval()\n",
    "    test_iter = iter(val_loader)\n",
    "    images, labels = test_iter.next()\n",
    "\n",
    "    show_images(torchvision.utils.make_grid(images))\n",
    "    plt.xlabel([classes[elem] for elem in labels]);\n",
    "\n",
    "    print('\\nPredictions:')\n",
    "\n",
    "    predictions = cn(images)\n",
    "    labels_int = torch.argmax(predictions, dim=1)\n",
    "    predicted_labels = [classes[elem] for elem in labels_int]\n",
    "    print(predicted_labels)\n",
    "    \n",
    "test_random(cn)"
   ]
  },
  {
   "cell_type": "markdown",
   "metadata": {
    "colab_type": "text",
    "id": "pdARTepx-4D8"
   },
   "source": [
    "## Check Overall Performance and Best Performant Classes\n",
    "\n",
    "https://pytorch.org/docs/stable/torch.html#locally-disabling-gradient-computation"
   ]
  },
  {
   "cell_type": "code",
   "execution_count": 31,
   "metadata": {
    "colab": {
     "base_uri": "https://localhost:8080/",
     "height": 238
    },
    "colab_type": "code",
    "id": "RaukV5Sg-4D9",
    "outputId": "9543f808-0ca1-40ca-f6dd-78b2547e90ea"
   },
   "outputs": [
    {
     "name": "stdout",
     "output_type": "stream",
     "text": [
      "Overall Accuracy on Test Set: 60.8%\n",
      "Performance per class:\n",
      "plane    0.669\n",
      "car      0.726\n",
      "bird     0.391\n",
      "cat      0.368\n",
      "deer     0.643\n",
      "dog      0.486\n",
      "frog     0.724\n",
      "horse    0.637\n",
      "ship     0.813\n",
      "truck    0.623\n",
      "Name: flag_correct, dtype: float64\n"
     ]
    }
   ],
   "source": [
    "def total_performance(cn):\n",
    "    cn.cpu()\n",
    "    cn.eval()\n",
    "    total_images = 0\n",
    "    total_correct_images = 0\n",
    "    observed = []\n",
    "    predicted = []\n",
    "    with torch.no_grad():\n",
    "        for data in val_loader:\n",
    "            images, labels = data\n",
    "\n",
    "            predictions = cn(images)\n",
    "            labels_int = torch.argmax(predictions, dim=1)\n",
    "\n",
    "            observed.extend(labels.numpy())\n",
    "            predicted.extend(labels_int.numpy())\n",
    "\n",
    "            total_images += labels.shape[0]\n",
    "            total_correct_images += (labels == labels_int).sum().item()        \n",
    "\n",
    "    acc = np.round((total_correct_images/total_images) * 100, 2)\n",
    "    print(f'Overall Accuracy on Test Set: {acc}%')\n",
    "\n",
    "    print('Performance per class:')\n",
    "    comp = pd.DataFrame({'observed': observed, 'predicted': predicted})\n",
    "    comp['flag_correct'] = comp['observed'] == comp['predicted']\n",
    "    stats = comp.groupby('observed')['flag_correct'].mean()\n",
    "    stats.index = [classes[elem] for elem in stats.index]\n",
    "    print(stats)\n",
    "    \n",
    "total_performance(cn)    "
   ]
  },
  {
   "cell_type": "markdown",
   "metadata": {
    "colab_type": "text",
    "id": "76FcdqP5-4D_"
   },
   "source": [
    "# Train ConvNet II"
   ]
  },
  {
   "cell_type": "code",
   "execution_count": 0,
   "metadata": {
    "colab": {},
    "colab_type": "code",
    "id": "YHG_ik9g-4EA",
    "scrolled": true
   },
   "outputs": [],
   "source": [
    "class ConvNet2(nn.Module):\n",
    "    def __init__(self):\n",
    "        super(ConvNet2, self).__init__()\n",
    "        self.conv1 = nn.Conv2d(3, 32, 5)          # https://pytorch.org/docs/stable/nn.html#conv2d \n",
    "        self.conv1_bn = nn.BatchNorm2d(32)\n",
    "        self.conv1_lr = nn.LeakyReLU()\n",
    "        \n",
    "        self.conv1_mp = nn.MaxPool2d(2, 2)        # https://pytorch.org/docs/stable/nn.html#maxpool2d\n",
    "        \n",
    "        self.conv2 = nn.Conv2d(32, 64, 5)         # https://pytorch.org/docs/stable/nn.html#conv2d \n",
    "        self.conv2_bn = nn.BatchNorm2d(64)\n",
    "        self.conv2_lr = nn.LeakyReLU()\n",
    "        \n",
    "        self.conv2_mp = nn.MaxPool2d(2, 2)\n",
    "        \n",
    "        self.fc1 = nn.Linear(64 * 5 * 5, 800)\n",
    "        self.fc1_do = nn.Dropout()\n",
    "        self.fc2 = nn.Linear(800, 200)           # https://pytorch.org/docs/stable/nn.html#linear\n",
    "        self.fc3 = nn.Linear(200, 10)            \n",
    "\n",
    "    def forward(self, x):                        # sizes:\n",
    "        x = self.conv1_lr(self.conv1_bn(self.conv1(x)))                   # 3x32x32 --> 32x28x28\n",
    "        x = self.conv1_mp(x)                                              # 32x28x28 --> 32x14x14\n",
    "        x = self.conv2_lr(self.conv2_bn(self.conv2(x)))                   # 32x14x14 --> 64x10x10 \n",
    "        x = self.conv2_mp(x)                                              # 64x10x10 --> 64x5x5\n",
    "        x = x.view(-1, 64 * 5 * 5)              # join features --> 64x5x5 --> 1600\n",
    "        x = self.fc1_do(F.relu(self.fc1(x)))    # 1600 --> 800\n",
    "        x = F.relu(self.fc2(x))                 # 800 --> 200\n",
    "        x = self.fc3(x)                         # 200 --> 10\n",
    "        return x"
   ]
  },
  {
   "cell_type": "code",
   "execution_count": 35,
   "metadata": {
    "colab": {
     "base_uri": "https://localhost:8080/",
     "height": 459
    },
    "colab_type": "code",
    "id": "tnlx67RT-4ED",
    "outputId": "12de01f9-320c-4f50-cbc6-c6b230bf822a",
    "scrolled": false
   },
   "outputs": [
    {
     "name": "stdout",
     "output_type": "stream",
     "text": [
      "\n",
      "Predictions:\n",
      "['bird', 'cat', 'truck', 'car']\n",
      "Overall Accuracy on Test Set: 74.61%\n",
      "Performance per class:\n",
      "plane    0.873\n",
      "car      0.809\n",
      "bird     0.603\n",
      "cat      0.539\n",
      "deer     0.782\n",
      "dog      0.604\n",
      "frog     0.851\n",
      "horse    0.776\n",
      "ship     0.802\n",
      "truck    0.822\n",
      "Name: flag_correct, dtype: float64\n",
      "CPU times: user 7min 56s, sys: 14.5 s, total: 8min 11s\n",
      "Wall time: 8min 14s\n"
     ]
    },
    {
     "data": {
      "image/png": "[encoded data removed]",
      "text/plain": [
       "<Figure size 432x288 with 1 Axes>"
      ]
     },
     "metadata": {
      "tags": []
     },
     "output_type": "display_data"
    }
   ],
   "source": [
    "%%time\n",
    "\n",
    "cn2 = ConvNet2()\n",
    "train_loop(cn2)\n",
    "test_random(cn2)\n",
    "total_performance(cn2)  "
   ]
  },
  {
   "cell_type": "code",
   "execution_count": 0,
   "metadata": {
    "colab": {},
    "colab_type": "code",
    "id": "gq9aQxGg-4EG"
   },
   "outputs": [],
   "source": []
  },
  {
   "cell_type": "code",
   "execution_count": 0,
   "metadata": {
    "colab": {},
    "colab_type": "code",
    "id": "IEpKEPFb-4EI"
   },
   "outputs": [],
   "source": []
  },
  {
   "cell_type": "markdown",
   "metadata": {
    "colab_type": "text",
    "id": "HUmWn_tX-4EL"
   },
   "source": [
    "# Playground\n",
    "\n",
    "## Just to check whether it works - Prep for section \"Train ConvNet\"\n",
    "\n",
    "https://www.quora.com/How-can-I-calculate-the-size-of-output-of-convolutional-layer\n",
    "\n",
    "Given: \n",
    "\n",
    "* image of size *W* x *H*  \n",
    "* convolution filter of size $F_{w}$ x $F_{h}$  \n",
    "* padding of size *P*  \n",
    "* stride of size $S_{w}$ x $S_{h}$  \n",
    "  \n",
    "The output image dimensions are going to be:  \n",
    "  \n",
    "$$W_{conv} = \\frac{W - F_{w} + 2P}{S_{w}} + 1$$  \n",
    "  \n",
    "$$H_{conv} = \\frac{W - F_{h} + 2P}{S_{h}} + 1$$   "
   ]
  }
 ],
 "metadata": {
  "accelerator": "GPU",
  "colab": {
   "collapsed_sections": [],
   "name": "Tutorial 2 - Convolution NN and Data Management.ipynb",
   "provenance": [],
   "version": "0.3.2"
  },
  "hide_input": false,
  "kernelspec": {
   "display_name": "Python 3",
   "language": "python",
   "name": "python3"
  },
  "language_info": {
   "codemirror_mode": {
    "name": "ipython",
    "version": 3
   },
   "file_extension": ".py",
   "mimetype": "text/x-python",
   "name": "python",
   "nbconvert_exporter": "python",
   "pygments_lexer": "ipython3",
   "version": "3.6.4"
  },
  "toc": {
   "base_numbering": 1,
   "nav_menu": {},
   "number_sections": true,
   "sideBar": true,
   "skip_h1_title": false,
   "title_cell": "Table of Contents",
   "title_sidebar": "Contents",
   "toc_cell": false,
   "toc_position": {},
   "toc_section_display": true,
   "toc_window_display": false
  }
 },
 "nbformat": 4,
 "nbformat_minor": 1
}
